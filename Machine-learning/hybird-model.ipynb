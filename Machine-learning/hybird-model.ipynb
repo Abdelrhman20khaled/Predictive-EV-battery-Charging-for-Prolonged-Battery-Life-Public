# This Python 3 environment comes with many helpful analytics libraries installed
# It is defined by the kaggle/python Docker image: https://github.com/kaggle/docker-python
# For example, here's several helpful packages to load

import numpy as np # linear algebra
import pandas as pd # data processing, CSV file I/O (e.g. pd.read_csv)

# Input data files are available in the read-only "../input/" directory
# For example, running this (by clicking run or pressing Shift+Enter) will list all files under the input directory

import os
for dirname, _, filenames in os.walk('/kaggle/input'):
    for filename in filenames:
        print(os.path.join(dirname, filename))

# You can write up to 20GB to the current directory (/kaggle/working/) that gets preserved as output when you create a version using "Save & Run All" 
# You can also write temporary files to /kaggle/temp/, but they won't be saved outside of the current session

          import numpy as np
import pandas as pd
from sklearn.linear_model import LinearRegression
from sklearn.model_selection import train_test_split
import matplotlib.pyplot as plt
import seaborn as sns
from sklearn.model_selection import train_test_split, KFold, GridSearchCV, cross_val_score, cross_validate
from xgboost import XGBRegressor
from sklearn.metrics import mean_absolute_error, mean_squared_error, r2_score, make_scorer
from sklearn.ensemble import RandomForestRegressor
from sklearn.multioutput import MultiOutputRegressor
import joblib

# Load dataset for B0005 (replace with the correct file path if needed)
df_b0005 = pd.read_csv('/kaggle/input/nasa-data-set/NASA_cycle_dataset_B0005.csv')

# Load dataset for B0006 (replace with the correct file path if needed)
df_b0006 = pd.read_csv('/kaggle/input/nasa-data-set/NASA_cycle_dataset_B0006.csv')

# Load dataset for B0007 (replace with the correct file path if needed)
df_b0007 = pd.read_csv('/kaggle/input/nasa-data-set/NASA_cycle_dataset_B0007.csv')

# Load dataset for B0018 (replace with the correct file path if needed)
df_b0018 = pd.read_csv('/kaggle/input/nasa-data-set/NASA_cycle_dataset_B0018.csv')

# Combine the two dataframes into one, adding a 'battery_id' column to differentiate them
df_b0005['battery_id'] = 'B0005'
df_b0006['battery_id'] = 'B0006'
df_b0007['battery_id'] = 'B0007'
df_b0018['battery_id'] = 'B0018'

df = pd.concat([df_b0005,df_b0006, df_b0007, df_b0018], axis=0)

df.head()
data = df.dropna()
data.head()
columns_to_drop = ['ambient_temperature', 'datetime', 'voltage_measured', 'temperature_measured','time','current_measured', 'Unnamed: 0']
data = data.drop(columns=columns_to_drop)
data.head()
data = data.sort_values(by='cycle', ascending=True)
data = data.sort_values(by=['cycle', 'capacity'], ascending=[True, False])
data = data.sort_values(by=['cycle', 'capacity'], ascending=[True, False]).reset_index(drop=True)
data.head()
data['max_capacity_in_cycle'] = data.groupby('cycle')['capacity'].transform('max')
data['SOC'] = (data['capacity'] / data['max_capacity_in_cycle']) * 100
data.head()
max_capacity_cycle_1 = data[data['cycle'] == 1]['capacity'].max()
data['SOH'] = (data['max_capacity_in_cycle'] / max_capacity_cycle_1) * 100
data.head()
columns_to_drop = ['max_capacity_in_cycle','battery_id','battery_id']
data = data.drop(columns=columns_to_drop)
data.head()
# Define input features and targets
X = data[['cycle', 'voltage', 'current']]  # Features
y = data[['capacity', 'SOC', 'SOH']]  # Targets to predict
X_train, X_test, y_train, y_test = train_test_split(X, y, random_state=42)
# Random Forest model (non-extrapolative)
rf_model = RandomForestRegressor(n_estimators=100, random_state=42)
rf_model.fit(X_train, y_train)
# Linear Regression model (extrapolative)
lin_model = LinearRegression()
lin_model.fit(X_train, y_train)
# Hybrid Prediction Function
def hybrid_predict(X_input):
    """
    Predict capacity using RF for cycle <= 168, Linear Regression for cycle > 168.
    """
    predictions = []
    for i in range(len(X_input)):
        cycle = X_input.iloc[i]['cycle']
        if cycle <= 168:
            pred = rf_model.predict([X_input.iloc[i]])[0]
        else:
            pred = lin_model.predict([X_input.iloc[i]])[0]
        predictions.append(pred)
    return np.array(predictions)
  
# Example usage
X_input = pd.DataFrame({
    'cycle': [100, 150, 170, 200],  # includes out-of-range values
    'voltage': [3.7, 3.9, 4.0, 4.1],
    'current': [1.0, -0.5, -1.0, 0.5]
})
hybrid_preds = hybrid_predict(X_input)
print(hybrid_preds)
# Save both models in a single file
models = {
    'rf_model': rf_model,
    'lin_model': lin_model
}

joblib.dump(models, 'hybrid_battery_model.pkl')
print("Model saved as 'hybrid_battery_model.pkl'") 

